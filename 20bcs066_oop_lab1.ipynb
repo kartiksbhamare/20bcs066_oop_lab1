{
  "nbformat": 4,
  "nbformat_minor": 0,
  "metadata": {
    "colab": {
      "name": "20bcs066_oop_lab1",
      "provenance": [],
      "collapsed_sections": [],
      "authorship_tag": "ABX9TyOYSg9rV0dLDgzVcrCPxewa",
      "include_colab_link": true
    },
    "kernelspec": {
      "name": "python3",
      "display_name": "Python 3"
    },
    "language_info": {
      "name": "python"
    }
  },
  "cells": [
    {
      "cell_type": "markdown",
      "metadata": {
        "id": "view-in-github",
        "colab_type": "text"
      },
      "source": [
        "<a href=\"https://colab.research.google.com/github/kartiksbhamare/20bcs066_oop_lab1/blob/main/20bcs066_oop_lab1.ipynb\" target=\"_parent\"><img src=\"https://colab.research.google.com/assets/colab-badge.svg\" alt=\"Open In Colab\"/></a>"
      ]
    },
    {
      "cell_type": "markdown",
      "metadata": {
        "id": "7EotYo7D2XuR"
      },
      "source": [
        "1)An extra day is added to the calendar almost every four years as February 29, and the day is called a leap day. It corrects the calendar for the fact that our planet takes approximately 365.25 days to orbit the sun. A leap year contains a leap day. In the Gregorian calendar, three conditions are used to identify leap years: The year can be evenly divided by 4, is a leap year, unless: The year can be evenly divided by 100, it is NOT a leap year, unless: The year is also evenly divisible by 400. Then it is a leap year. Write function to decide whether it is a leap year. If it is a leap year, return the Boolean True, otherwise return False."
      ]
    },
    {
      "cell_type": "code",
      "metadata": {
        "colab": {
          "base_uri": "https://localhost:8080/"
        },
        "id": "hwXErJot2Zxu",
        "outputId": "5b7c3322-cbc7-43a4-a1fc-a7196981242f"
      },
      "source": [
        "def is_leap(year):\n",
        "    leap = False\n",
        " \n",
        "    if year%4==0:\n",
        "        if year%100==0:\n",
        "            if year%400==0:\n",
        "                leap=True\n",
        "            else:\n",
        "                leap=False\n",
        "        else:\n",
        "             leap=True\n",
        "    else:\n",
        "        leap=False\n",
        "\n",
        "    return leap\n",
        "\n",
        "\n",
        "\n",
        "year = int(input('Enter The Year :' ))\n",
        "print(is_leap(year))"
      ],
      "execution_count": 1,
      "outputs": [
        {
          "output_type": "stream",
          "name": "stdout",
          "text": [
            "Enter The Year :2000\n",
            "True\n"
          ]
        }
      ]
    },
    {
      "cell_type": "markdown",
      "metadata": {
        "id": "k6Lblm192jX9"
      },
      "source": [
        "2)Given an integer ‘n’, write a python code to perform the following conditional actions: If ‘n’ is odd, print Weird If ‘n’ is even and in the inclusive range of 2 to 5, print Not Weird If ‘n’ is even and in the inclusive range of 6 to 20, print Weird If ‘n’ is even and greater than 20, print Not Weird"
      ]
    },
    {
      "cell_type": "code",
      "metadata": {
        "colab": {
          "base_uri": "https://localhost:8080/"
        },
        "id": "9qWva4It2nOI",
        "outputId": "c1a9dcd9-a7d7-410e-c85c-c63e541f565e"
      },
      "source": [
        "n = int(input('Enter The Number : '))\n",
        "if n % 2 == 1:\n",
        "    print(\"Weird\")\n",
        "elif n % 2 == 0 and 2 <= n <= 5:\n",
        "    print(\"Not Weird\")\n",
        "elif n % 2 == 0 and 6 <= n <= 20:\n",
        "    print(\"Weird\")\n",
        "else:\n",
        "    print(\"Not Weird\")"
      ],
      "execution_count": 3,
      "outputs": [
        {
          "output_type": "stream",
          "name": "stdout",
          "text": [
            "Enter The Number : 2\n",
            "Not Weird\n"
          ]
        }
      ]
    },
    {
      "cell_type": "markdown",
      "metadata": {
        "id": "I_I6Rosl40JW"
      },
      "source": [
        "3)The following list represents a party with 7 guests, in which ‘Hardik’ showed up first and ‘Rahane’ was the last to arrive:\n",
        "\n",
        "Arrivals = ['Hardik', 'Rahul', 'Virat', 'Rishabh’, ‘Mahi’ 'Rohit', 'Rahane']\n",
        "\n",
        "A guest is considered 'fashionably late' if they arrived after at least half of the party's guests. However, they must not be the very last guest (that's taking it too far). In the above example, ‘rishabh’, ‘Mahi’ and ‘Rohit’ are the only guests who were fashionably late.\n",
        "\n",
        "Write the function which takes a list of party attendees as well as a person, and tells us whether that person is fashionably late."
      ]
    },
    {
      "cell_type": "code",
      "metadata": {
        "colab": {
          "base_uri": "https://localhost:8080/"
        },
        "id": "pxhApNkG20JO",
        "outputId": "f61b3b3d-1081-444a-a99c-726963fe2361"
      },
      "source": [
        "Guest_List = ['Hardik', 'Rahul', 'Virat', 'Rishabh', 'Mahi', 'Rohit', 'Rahane']\n",
        "Guest_Name = str(input('Enter Guest Name :-'))\n",
        "Count_of_Guests = len(Guest_List)\n",
        "def Find_Guest_Fashionably_Late(Guest_List , Guest_Name) :\n",
        "   Count_of_Guests = len(Guest_List)\n",
        "\n",
        "Half_of_Guest = (Count_of_Guests // 2) + ( 0 if Count_of_Guests % 2 == 0 else 1)\n",
        "\n",
        "Guest_arrv_pos = Guest_List.index(Guest_Name)\n",
        "\n",
        "if Guest_arrv_pos > Half_of_Guest and Guest_arrv_pos < Count_of_Guests :\n",
        "    print(\"The Guest , \",Guest_Name , \" is NOT Fashionably Late .\")\n",
        "else:\n",
        "    print(\"The Guest , \",Guest_Name , \" is Fashionably Late .\")"
      ],
      "execution_count": 4,
      "outputs": [
        {
          "output_type": "stream",
          "name": "stdout",
          "text": [
            "Enter Guest Name :-Rahul\n",
            "The Guest ,  Rahul  is Fashionably Late .\n"
          ]
        }
      ]
    },
    {
      "cell_type": "markdown",
      "metadata": {
        "id": "gmufDQdK28_k"
      },
      "source": [
        "4)A researcher has gathered thousands of news articles. But she wants to focus her attention on articles including a specific word. Write a function to help her filter her list of articles. Your function should meet the following criteria: Do not include documents where the keyword string shows up only as a part of a larger word. For example, if she were looking for the keyword “closed”, you would not include the string “enclosed.” She does not want you to distinguish upper case from lower case letters. So the phrase “Closed the case.” would be included when the keyword is “closed” Do not let periods or commas affect what is matched. “It is closed.” would be included when the keyword is “closed”. But you can assume there are no other types of punctuation.\n",
        "\n",
        "Assume, doc_list = [\"The Learn Python Challenge Rohit.\", \"They bought a car\", \"bangalore\"]"
      ]
    },
    {
      "cell_type": "code",
      "metadata": {
        "colab": {
          "base_uri": "https://localhost:8080/"
        },
        "id": "R48VeSl13KsG",
        "outputId": "7c74abd3-58a3-4ead-9cd6-b5e2887cc3d4"
      },
      "source": [
        "def word_search_2(title_list, keyword):\n",
        "    keyword = keyword.lower().strip('.,')\n",
        "\n",
        "    result_list = []\n",
        "    for i, title in enumerate(title_list):\n",
        "\n",
        "        words = title.lower().strip('.,').split()\n",
        "\n",
        "        if keyword in words:\n",
        "            result_list.append((i, title))\n",
        "\n",
        "    return result_list\n",
        "\n",
        "if __name__ == '__main__':\n",
        "    docs = [\"The Learn Python Challenge Rohit.\", \"I love Python\", \"Python is Easy Language\",\"OOP is Python Based Cource\", \"They bought a car\", \"bangalore\"]\n",
        "    w = str(input('Enter the word to search : '))\n",
        "\n",
        "    print(word_search_2(docs, w))"
      ],
      "execution_count": 6,
      "outputs": [
        {
          "output_type": "stream",
          "name": "stdout",
          "text": [
            "Enter the word to search : Learn\n",
            "[(0, 'The Learn Python Challenge Rohit.')]\n"
          ]
        }
      ]
    },
    {
      "cell_type": "markdown",
      "metadata": {
        "id": "tliutw483yYX"
      },
      "source": [
        "5)An Employee's Basic Pay (BP) is to be read from user. DA is 40% of BP, HRA is 20% of BP, and write a function to calculate the Gross Pay (GP) GP is computed as BP + DA + HRA."
      ]
    },
    {
      "cell_type": "code",
      "metadata": {
        "colab": {
          "base_uri": "https://localhost:8080/"
        },
        "id": "q4R7xnJQ34Gl",
        "outputId": "3cc5978b-2277-483a-fedb-be42c1f197e5"
      },
      "source": [
        "BP = int(input('Employee Basic Pay (BP) : '))\n",
        "DA = BP*(40/100)\n",
        "print('DA of Employee is ,',DA)\n",
        "HRA = BP*(20/100)\n",
        "print('HRA of Employee is ,',HRA)\n",
        "GP = BP + DA + HRA\n",
        "print('Gross Pay (GP) of Employee is ,',GP)"
      ],
      "execution_count": 7,
      "outputs": [
        {
          "output_type": "stream",
          "name": "stdout",
          "text": [
            "Employee Basic Pay (BP) : 5000\n",
            "DA of Employee is , 2000.0\n",
            "HRA of Employee is , 1000.0\n",
            "Gross Pay (GP) of Employee is , 8000.0\n"
          ]
        }
      ]
    }
  ]
}